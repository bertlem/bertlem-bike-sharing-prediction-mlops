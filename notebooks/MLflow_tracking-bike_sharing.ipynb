{
 "cells": [
  {
   "cell_type": "markdown",
   "id": "a8066704-ce73-4dbe-90a1-cfde684041aa",
   "metadata": {},
   "source": [
    "# 1. ML Ops: Generalities"
   ]
  },
  {
   "cell_type": "markdown",
   "id": "58f793d9-04ec-4b31-a5c1-2e72b08de3c7",
   "metadata": {},
   "source": [
    "## 1.1 Context"
   ]
  },
  {
   "cell_type": "raw",
   "id": "30857fa5-ccb6-424d-80a1-907d88b19675",
   "metadata": {},
   "source": [
    "Automation of the entire workflow:\n",
    "- Model development\n",
    "- Model versioning\n",
    "- Lifecycle management\n",
    "=> Scaling is crucial, from single experiment to deployment in production"
   ]
  },
  {
   "cell_type": "markdown",
   "id": "e9a58175-34b0-4f4e-bee5-a17f6b845f27",
   "metadata": {},
   "source": [
    "## 1.2 MLFlow"
   ]
  },
  {
   "cell_type": "raw",
   "id": "fc0cf2e1-2f7b-4e66-85eb-68928d470c8f",
   "metadata": {},
   "source": [
    "- MLFlow Tracking: log and query individual experiments (code, data, models, metrics, hyperparameters, artifacts)\n",
    "Note: artifacts can be any kind of outputs, like models themselves, output data, plots, etc\n",
    "- MLFlow Projects: package projects to make them reusable /reproducible\n",
    "- MLFlow Models: provides a standardized way to package and deploy models\n",
    "- MLFlow Model Registry: versioning/lifecycle management of models in production"
   ]
  },
  {
   "cell_type": "markdown",
   "id": "54f1446a-4f2b-4229-8102-3723e12e8938",
   "metadata": {},
   "source": [
    "# 2. Bike Sharing Demand Dataset (Kaggle)"
   ]
  },
  {
   "cell_type": "markdown",
   "id": "de361210-44cc-4670-b2a0-f0a0de912afa",
   "metadata": {},
   "source": [
    "## 2.1 Context"
   ]
  },
  {
   "cell_type": "raw",
   "id": "c0c0c46a-fc23-4dc6-926a-6c8edb464426",
   "metadata": {},
   "source": [
    "No need to describe bike sharing systems...\n",
    "Critical challenge: manage efficiently the distribution of bikes at different stations: \n",
    "- missing bikes is a problem for users (the system is not reliable)\n",
    "- too many bikes as well (bike parking slots overcrowded, may requires users to park far from their destination)\n",
    "Both situations result in an immediate financial loss for the company. \n",
    "Since they impair customer retention, they may lead to a further financial loss in the future."
   ]
  },
  {
   "cell_type": "markdown",
   "id": "3b034588-4a9d-4b46-aa0b-d7a707572f48",
   "metadata": {},
   "source": [
    "## 2.2 The dataset"
   ]
  },
  {
   "cell_type": "raw",
   "id": "d25592bf-4960-4832-848c-96f83aeea632",
   "metadata": {},
   "source": [
    "Goal: forecast bike demand based on historical data "
   ]
  },
  {
   "cell_type": "markdown",
   "id": "bb7f5710-2117-425d-9138-fe351b73d760",
   "metadata": {},
   "source": [
    "Features:\n",
    "- Date/time: of the the bike rental\n",
    "- Weather conditions: Temperature, humidity, wind speed, etc\n",
    "- Seasonal factors: Year, month, holiday/weekend vs workday\n",
    "- Rental counts: number of bikes rented at agiven time = the target variable to be predicted"
   ]
  },
  {
   "cell_type": "raw",
   "id": "083c680a-dc07-4b1b-8011-76b5d0c11180",
   "metadata": {},
   "source": [
    "Details:\n",
    "datetime   - hourly date + timestamp  \n",
    "season     -  1 = spring, 2 = summer, 3 = fall, 4 = winter \n",
    "holiday    - whether the day is considered a holiday\n",
    "workingday - whether the day is neither a weekend nor holiday\n",
    "weather    - 1: Clear, Few clouds, Partly cloudy, Partly cloudy\n",
    "             2: Mist + Cloudy, Mist + Broken clouds, Mist + Few clouds, Mist\n",
    "             3: Light Snow, Light Rain + Thunderstorm + Scattered clouds, Light Rain + Scattered clouds\n",
    "             4: Heavy Rain + Ice Pallets + Thunderstorm + Mist, Snow + Fog \n",
    "temp       - temperature in Celsius\n",
    "atemp      - \"feels like\" temperature in Celsius\n",
    "humidity   - relative humidity\n",
    "windspeed  - wind speed\n",
    "casual     - number of non-registered user rentals initiated\n",
    "registered - number of registered user rentals initiated\n",
    "count      - number of total rentals"
   ]
  },
  {
   "cell_type": "code",
   "execution_count": 1,
   "id": "20b351ad-dd49-4b52-918e-a7920e6855da",
   "metadata": {},
   "outputs": [],
   "source": [
    "import numpy as np\n",
    "import pandas as pd\n",
    "import matplotlib.pyplot as plt\n",
    "import datetime as dt\n",
    "\n",
    "import mlflow\n",
    "import sklearn"
   ]
  },
  {
   "cell_type": "code",
   "execution_count": 2,
   "id": "bd099819-040c-43c3-9239-a2e9c27ead12",
   "metadata": {},
   "outputs": [],
   "source": [
    "# inches -> cm conversion for plotting\n",
    "cm=1/2.54"
   ]
  },
  {
   "cell_type": "code",
   "execution_count": 3,
   "id": "62d5fef1-8885-4acd-bb14-523437ff8d51",
   "metadata": {},
   "outputs": [],
   "source": [
    "from pathlib import Path\n",
    "path_data = Path('/home/lemasle/ASTRO/projects/bike-prediction-mlops/data')\n",
    "path_figs = Path('/home/lemasle/ASTRO/projects/bike-prediction-mlops/figs')"
   ]
  },
  {
   "cell_type": "code",
   "execution_count": 4,
   "id": "2ca50bd6-027d-472d-b987-7787422b9d02",
   "metadata": {},
   "outputs": [
    {
     "name": "stdout",
     "output_type": "stream",
     "text": [
      "number of rows in the training data 10886\n",
      "number of rows in the unseen data 6493\n"
     ]
    }
   ],
   "source": [
    "train = pd.read_csv(path_data / 'train.csv')\n",
    "print('number of rows in the training data', len(train))\n",
    "unseen = pd.read_csv(path_data / 'test.csv')\n",
    "print('number of rows in the unseen data', len(unseen))"
   ]
  },
  {
   "cell_type": "raw",
   "id": "f20aa9c3-3736-4585-a5c3-1ea1a0235e0c",
   "metadata": {},
   "source": [
    "The unseen data is not used for now, we consider the train data as the full dataset (to be later split in a train and a test set)"
   ]
  },
  {
   "cell_type": "code",
   "execution_count": 5,
   "id": "6ef6eba4-c6ff-4eb5-a7c0-6a70cb81d1cc",
   "metadata": {},
   "outputs": [],
   "source": [
    "data = train"
   ]
  },
  {
   "cell_type": "markdown",
   "id": "2a1fcff0-25a1-4395-adde-d1dd53529eb0",
   "metadata": {},
   "source": [
    "## 2.3 Data cleaning"
   ]
  },
  {
   "cell_type": "markdown",
   "id": "4028f363-1062-40a2-801d-d821fbcfd4d9",
   "metadata": {},
   "source": [
    "### 2.3.1 Missing values"
   ]
  },
  {
   "cell_type": "code",
   "execution_count": 7,
   "id": "e0d9a917-0d9c-48be-914f-e5589d53184d",
   "metadata": {},
   "outputs": [
    {
     "name": "stdout",
     "output_type": "stream",
     "text": [
      "10886\n"
     ]
    }
   ],
   "source": [
    "print(len(data))"
   ]
  },
  {
   "cell_type": "code",
   "execution_count": 8,
   "id": "dc2500de-c3e2-47a7-83fb-9be4e09054cf",
   "metadata": {},
   "outputs": [
    {
     "name": "stdout",
     "output_type": "stream",
     "text": [
      "datetime      0\n",
      "season        0\n",
      "holiday       0\n",
      "workingday    0\n",
      "weather       0\n",
      "temp          0\n",
      "atemp         0\n",
      "humidity      0\n",
      "windspeed     0\n",
      "casual        0\n",
      "registered    0\n",
      "count         0\n",
      "dtype: int64\n"
     ]
    }
   ],
   "source": [
    "data_missing_values = data.isnull().sum()\n",
    "print(data_missing_values)"
   ]
  },
  {
   "cell_type": "raw",
   "id": "497a6bd4-913e-4dba-9772-6771cca8b40b",
   "metadata": {},
   "source": [
    "No missing values."
   ]
  },
  {
   "cell_type": "markdown",
   "id": "2bcb4d5e-40f5-44aa-aa07-e352057ea284",
   "metadata": {},
   "source": [
    "### 2.3.2 Outliers"
   ]
  },
  {
   "cell_type": "code",
   "execution_count": 9,
   "id": "00c6c1f0-773f-484a-88ac-9047961386ee",
   "metadata": {},
   "outputs": [
    {
     "data": {
      "text/plain": [
       "Text(0.5, 1.0, 'Distribution of weather parameters')"
      ]
     },
     "execution_count": 9,
     "metadata": {},
     "output_type": "execute_result"
    },
    {
     "data": {
      "image/png": "[encoded data removed]",
      "text/plain": [
       "<Figure size 640x480 with 1 Axes>"
      ]
     },
     "metadata": {},
     "output_type": "display_data"
    }
   ],
   "source": [
    "data_outliers = data.loc[:, ['temp', 'atemp', 'humidity', 'windspeed']]\n",
    "plt.boxplot(data_outliers, tick_labels=data_outliers.columns)\n",
    "plt.title('Distribution of weather parameters')"
   ]
  },
  {
   "cell_type": "raw",
   "id": "f8e7dd94-1552-41b9-8c61-ec02041e9cbe",
   "metadata": {},
   "source": [
    "Windspeed has a few extreme values compared to the overall distribution\n",
    "Here we decide to cap windspeed at a maximum threshold, but the most extreme values could also be kept"
   ]
  },
  {
   "cell_type": "code",
   "execution_count": 10,
   "id": "7bdc47d0-a9c6-4769-97e1-f39a9c06cddb",
   "metadata": {},
   "outputs": [],
   "source": [
    "data['windspeed'] = data['windspeed'].clip(upper=40)"
   ]
  },
  {
   "cell_type": "markdown",
   "id": "89ac0ec3-312d-4505-b2e5-082389cc2e07",
   "metadata": {},
   "source": [
    "### 2.3.3 Wrong data"
   ]
  },
  {
   "cell_type": "code",
   "execution_count": 11,
   "id": "2ad7b6b1-58c2-4ca1-a94c-da617842d9ac",
   "metadata": {},
   "outputs": [
    {
     "name": "stdout",
     "output_type": "stream",
     "text": [
      "0\n"
     ]
    }
   ],
   "source": [
    "data_wrong = data[data['windspeed'] < 0]\n",
    "print(len(data_wrong))"
   ]
  },
  {
   "cell_type": "markdown",
   "id": "903a4a6b-1b30-4298-9198-699ead2f2c70",
   "metadata": {},
   "source": [
    "There are no columns with obviously wrong data, such as negative windspeed"
   ]
  },
  {
   "cell_type": "markdown",
   "id": "cc8063a7-66bb-478d-ac54-a47d97dfb32a",
   "metadata": {},
   "source": [
    "### 2.3.4 Day type"
   ]
  },
  {
   "cell_type": "markdown",
   "id": "b4b46eb7-4d29-47ed-ab6f-f880d75ab7c0",
   "metadata": {},
   "source": [
    "Check whether a holiday could nevertheless be a working day:"
   ]
  },
  {
   "cell_type": "code",
   "execution_count": 12,
   "id": "5c54dabe-9259-4296-a32f-57c8830170f2",
   "metadata": {},
   "outputs": [
    {
     "name": "stdout",
     "output_type": "stream",
     "text": [
      "0\n"
     ]
    }
   ],
   "source": [
    "test_day = data.loc[(data['holiday'] == 1) & (data['workingday'] == 1)]\n",
    "print(len(test_day))"
   ]
  },
  {
   "cell_type": "raw",
   "id": "af63e574-480b-4a3b-839e-840aa34f090b",
   "metadata": {},
   "source": [
    "It turns out it is not the case. In the contrary, we could have created a new binary feature:\n",
    "data['is_holiday_workingday'] = ((data['holiday'] == 1) & (data['workingday'] == 1)).astype(int)"
   ]
  },
  {
   "cell_type": "markdown",
   "id": "c9afdb2b-02a1-48bf-9ee1-67bea2c9315a",
   "metadata": {},
   "source": [
    "## 2.4 Feature Engineering"
   ]
  },
  {
   "cell_type": "markdown",
   "id": "1b260013-f332-47b0-a6a2-7a051f86744c",
   "metadata": {},
   "source": [
    "### 2.4.1 Datetime data"
   ]
  },
  {
   "cell_type": "code",
   "execution_count": 13,
   "id": "fb8e86ff-c18e-4050-b7cf-cfed62bf7819",
   "metadata": {},
   "outputs": [],
   "source": [
    "# Convert 'datetime' column to datetime object\n",
    "data['datetime'] = pd.to_datetime(data['datetime'])\n",
    "\n",
    "# Create new features\n",
    "data['hour'] = data['datetime'].dt.hour\n",
    "data['day_of_week'] = data['datetime'].dt.dayofweek\n",
    "data['month'] = data['datetime'].dt.month"
   ]
  },
  {
   "cell_type": "markdown",
   "id": "09b9e0d3-9db3-4f08-80b6-f332f2caa790",
   "metadata": {},
   "source": [
    "### 2.4.2 Weather"
   ]
  },
  {
   "cell_type": "markdown",
   "id": "c083222e-05ff-4dad-9c30-1ff254dac45a",
   "metadata": {},
   "source": [
    "The 'weather' column is already categorical, so we could leave it like that.\n",
    "On the other hand, it is possible to further refine it, for instance to indicate weather it is raining or not (an important criterion when choosing to bike or not, speaking from experience).\n",
    "This can be done via binary features: is_clear_weather / is_rainy.\n",
    "Such features slightly simplifies the relationship with the target variable."
   ]
  },
  {
   "cell_type": "code",
   "execution_count": 14,
   "id": "096f32ca-f817-444f-a76c-776dcb0573b6",
   "metadata": {},
   "outputs": [],
   "source": [
    "# Create binary weather features\n",
    "data['is_clear_weather'] = (data['weather'] == 1).astype(int)\n",
    "data['is_rainy_weather'] = (data['weather'] >= 3).astype(int)"
   ]
  },
  {
   "cell_type": "markdown",
   "id": "6f545151-7ccb-4711-a72a-22d758fead56",
   "metadata": {},
   "source": [
    "### 2.4.3 Drop now irrelevant columns"
   ]
  },
  {
   "cell_type": "raw",
   "id": "fd04127d-a182-41e9-b55a-55f58a3209b7",
   "metadata": {},
   "source": [
    "We also drop 'casual' and 'registered' because they only contain NaNs in the unseen data"
   ]
  },
  {
   "cell_type": "code",
   "execution_count": 15,
   "id": "d79d3daa-e8dd-4418-808b-5c55732713d4",
   "metadata": {},
   "outputs": [],
   "source": [
    "data.drop(columns=['datetime', 'weather', 'casual', 'registered'], inplace=True)"
   ]
  },
  {
   "cell_type": "markdown",
   "id": "c5f406de-8d13-4edb-953c-43a895b0d24b",
   "metadata": {},
   "source": [
    "## 2.5 Training and Testing Split"
   ]
  },
  {
   "cell_type": "code",
   "execution_count": 17,
   "id": "1223670e-8944-4807-a917-ecd362a40cc7",
   "metadata": {},
   "outputs": [],
   "source": [
    "# Split the data into features and target\n",
    "X = data.drop(columns=[\"count\"])  # Features (all columns except 'count')\n",
    "y = data[\"count\"]  # Target variable"
   ]
  },
  {
   "cell_type": "raw",
   "id": "aa245e39-d912-4040-8a47-a1ecda6a8b9b",
   "metadata": {},
   "source": [
    "It is customary to perform a 80%-20% train-test split:"
   ]
  },
  {
   "cell_type": "code",
   "execution_count": 18,
   "id": "1135d99b-82a1-41d6-aacc-4bb08318f0c2",
   "metadata": {},
   "outputs": [],
   "source": [
    "from sklearn.model_selection import train_test_split\n",
    "X_train, X_test, y_train, y_test = train_test_split(X, y, test_size=0.2, random_state=42)"
   ]
  },
  {
   "cell_type": "code",
   "execution_count": 19,
   "id": "c4f01b34-2fb6-4614-a92e-f8ccc0b80355",
   "metadata": {},
   "outputs": [
    {
     "name": "stdout",
     "output_type": "stream",
     "text": [
      "Training data size: (8708, 12)\n",
      "Testing data size: (2178, 12)\n"
     ]
    }
   ],
   "source": [
    "# Verify the split\n",
    "print(f\"Training data size: {X_train.shape}\")\n",
    "print(f\"Testing data size: {X_test.shape}\")"
   ]
  },
  {
   "cell_type": "code",
   "execution_count": 20,
   "id": "55c3f9d8-4b67-4a7f-9bf5-8de38bef0eec",
   "metadata": {},
   "outputs": [
    {
     "name": "stdout",
     "output_type": "stream",
     "text": [
      "(8708,) (2178,)\n"
     ]
    }
   ],
   "source": [
    "print(y_train.shape, y_test.shape)"
   ]
  },
  {
   "cell_type": "markdown",
   "id": "611a0091-8cdf-498c-9113-907b9e881aeb",
   "metadata": {},
   "source": [
    "# 3. Setup of the MLOps pipeline"
   ]
  },
  {
   "cell_type": "markdown",
   "id": "fa87f918-9d99-42d3-80d4-1592696ecb79",
   "metadata": {},
   "source": [
    "## 3.1 python setup"
   ]
  },
  {
   "cell_type": "raw",
   "id": "5d2c9231-ccb9-4d01-b146-f0de58f8a0a1",
   "metadata": {},
   "source": [
    "- work within a virtual environment\n",
    "- make sure python, MLFlow, pandas, and scikit-learn are nstalled\n",
    "- personal choice: developing the model in a jupyter lab notebook "
   ]
  },
  {
   "cell_type": "code",
   "execution_count": 21,
   "id": "5c9fe55b-2bcd-41e7-b5af-2394d1f85c8e",
   "metadata": {},
   "outputs": [],
   "source": [
    "# Strictly speaking, it serves no purpose (other than educational) to repeat this here since we already experimented with the dataset in Section 2 \n",
    "import numpy as np\n",
    "import pandas as pd\n",
    "import matplotlib.pyplot as plt\n",
    "import datetime as dt\n",
    "\n",
    "import mlflow\n",
    "import sklearn"
   ]
  },
  {
   "cell_type": "markdown",
   "id": "c2f7a7b2-1b99-43df-a509-8f182ce811f9",
   "metadata": {},
   "source": [
    "## 3.2 MLFlow tracking setup"
   ]
  },
  {
   "cell_type": "raw",
   "id": "f1cf96ca-3471-4107-81e9-2d503d41c8ad",
   "metadata": {},
   "source": [
    "We will plot the relative importance of features and log the plot as an artifact"
   ]
  },
  {
   "cell_type": "code",
   "execution_count": 22,
   "id": "d2645c95-8ba8-40e7-9dd5-3ed57368150d",
   "metadata": {},
   "outputs": [],
   "source": [
    "def plot_feature_importance(model, X_train, path_figs, filename, cm):\n",
    "\n",
    "    feature_importances = model.feature_importances_\n",
    "    fig, ax = plt.subplots(figsize=(10*cm, 6*cm))\n",
    "    ax.barh(X_train.columns, feature_importances)\n",
    "    ax.set_title(\"Feature Importance\")\n",
    "\n",
    "    file = Path(path_figs / str(filename))\n",
    "    fig.savefig(file)"
   ]
  },
  {
   "cell_type": "markdown",
   "id": "fee5b974-185f-4105-bb29-aee8e79f272e",
   "metadata": {},
   "source": [
    "### 3.2.1 Define the model and the GridSearchCV"
   ]
  },
  {
   "cell_type": "raw",
   "id": "c2dd8c48-823b-4714-9600-5729ed1f408b",
   "metadata": {},
   "source": [
    "We will use a Decision Tree Regressor from scikit-learn. \n",
    "A more advanced model like XGBoost would probably have been a good choice too.\n",
    "For the purpose of this example, Decision Trees are simpler and more easily interpretable."
   ]
  },
  {
   "cell_type": "code",
   "execution_count": 23,
   "id": "794da292-58c1-481f-bfd1-d542c5d51191",
   "metadata": {},
   "outputs": [],
   "source": [
    "from sklearn.tree import DecisionTreeRegressor\n",
    "from sklearn.metrics import mean_absolute_error, mean_squared_error"
   ]
  },
  {
   "cell_type": "raw",
   "id": "8ccfdad5-b373-47a5-85ba-e336b374eba4",
   "metadata": {},
   "source": [
    "We will use GridSearchCV for the hyperparameters tuning.\n",
    "RandomizedSearchCV is usually a beeter choice, as it is not bound to grid points and is less computationally expensive, especially when a large number of parameters come into play.\n",
    "Here we will test only a small number of hyperparameters/values."
   ]
  },
  {
   "cell_type": "code",
   "execution_count": 24,
   "id": "b450b018-4bca-4e56-946a-712c5daf9823",
   "metadata": {},
   "outputs": [],
   "source": [
    "from sklearn.model_selection import GridSearchCV"
   ]
  },
  {
   "cell_type": "code",
   "execution_count": 25,
   "id": "998b38f7-3749-460d-9ca0-6c2b45b72e38",
   "metadata": {},
   "outputs": [],
   "source": [
    "# define the grid of hyperparameters\n",
    "param_grid = {\n",
    "    'max_depth': [5, 10, 15],\n",
    "    'min_samples_split': [2, 5, 10, 15, 20]\n",
    "}\n",
    "random_state = 42"
   ]
  },
  {
   "cell_type": "code",
   "execution_count": 26,
   "id": "bf4701fa-0809-48d4-ac5c-0764b7d5e694",
   "metadata": {},
   "outputs": [],
   "source": [
    "# define the model model\n",
    "model = DecisionTreeRegressor(random_state=random_state)"
   ]
  },
  {
   "cell_type": "code",
   "execution_count": 27,
   "id": "b0cf13be-a630-40a4-9c58-b6f2ea253eb4",
   "metadata": {},
   "outputs": [],
   "source": [
    "# Define the GridSearchCV\n",
    "grid_search = GridSearchCV(estimator=model, param_grid=param_grid, cv=5, scoring='neg_mean_squared_error', verbose=1)"
   ]
  },
  {
   "cell_type": "markdown",
   "id": "a9c25efa-3ebc-452b-a28e-859fa1a1049d",
   "metadata": {},
   "source": [
    "### 3.2.2 Start an MLFlow run"
   ]
  },
  {
   "cell_type": "markdown",
   "id": "3ff08f84-cb55-46c1-b14c-0a550b029061",
   "metadata": {},
   "source": [
    "Run a local Tracking Server"
   ]
  },
  {
   "cell_type": "raw",
   "id": "206978f1-608c-49b5-9cb3-a2f0221c3c41",
   "metadata": {},
   "source": [
    "### In bash, type: ###\n",
    "mlflow server --host 127.0.0.1 --port 8080"
   ]
  },
  {
   "cell_type": "raw",
   "id": "5a0de4f0-a190-4d8a-bea5-dea99151c62d",
   "metadata": {},
   "source": [
    "Set the Tracking Server URI"
   ]
  },
  {
   "cell_type": "code",
   "execution_count": 28,
   "id": "d0bf503e-38ad-4154-a9bb-b4fc37d13f3e",
   "metadata": {},
   "outputs": [],
   "source": [
    "mlflow.set_tracking_uri(uri=\"http://127.0.0.1:8080\")"
   ]
  },
  {
   "cell_type": "raw",
   "id": "10973dc3-1f79-4ee9-bb5c-06416af0dcf2",
   "metadata": {},
   "source": [
    "Set the experiment name. All the runs will be includen in this experiment"
   ]
  },
  {
   "cell_type": "code",
   "execution_count": 29,
   "id": "5b0b4acf-2cc2-4452-8800-69602cf7add2",
   "metadata": {},
   "outputs": [],
   "source": [
    "my_experiment = mlflow.set_experiment(\"/mlflow_bike_sharing_forecast\")"
   ]
  },
  {
   "cell_type": "raw",
   "id": "67f32d8d-4165-41a4-9d6b-84b953d0f43b",
   "metadata": {},
   "source": [
    "Get the experiment ID"
   ]
  },
  {
   "cell_type": "code",
   "execution_count": 30,
   "id": "58388f6e-172a-492f-9b59-080895aca1d9",
   "metadata": {},
   "outputs": [
    {
     "name": "stdout",
     "output_type": "stream",
     "text": [
      "101887636968754225\n"
     ]
    }
   ],
   "source": [
    "print(my_experiment.experiment_id)"
   ]
  },
  {
   "cell_type": "raw",
   "id": "9fe8402f-fec7-4183-98bd-764a7c03d77f",
   "metadata": {},
   "source": [
    "with mlflow.start_run() initiates a new run\n",
    "It will automatically log all aspects of the experiment deemd relevant (such as parameters, metrics, and artifacts) to a unique run ID.\n",
    "This run is also stored in the MLFlow tracking server. A collection of experiments can later be  queried by run_ID for comparison purposes."
   ]
  },
  {
   "cell_type": "code",
   "execution_count": 31,
   "id": "77f8d3fa-c4c1-4b57-a7ac-98bfd7c1fbbf",
   "metadata": {
    "editable": true,
    "slideshow": {
     "slide_type": ""
    },
    "tags": []
   },
   "outputs": [
    {
     "name": "stdout",
     "output_type": "stream",
     "text": [
      "71fa669f061349aa87dc83ea33a8dbe9\n",
      "Fitting 5 folds for each of 15 candidates, totalling 75 fits\n"
     ]
    },
    {
     "name": "stderr",
     "output_type": "stream",
     "text": [
      "/home/lemasle/miniforge3/envs/MLOPS/lib/python3.12/site-packages/numpy/ma/core.py:2881: RuntimeWarning: invalid value encountered in cast\n",
      "  _data = np.array(data, dtype=dtype, copy=copy,\n",
      "2024/12/05 17:56:25 WARNING mlflow.models.model: Model logged without a signature and input example. Please set `input_example` parameter when logging the model to auto infer the model signature.\n",
      "2024/12/05 17:56:25 INFO mlflow.tracking._tracking_service.client: 🏃 View run bike_sharing_GridSearchCV_DecisionTreeRegressor_2024-12-05 at: http://127.0.0.1:8080/#/experiments/101887636968754225/runs/71fa669f061349aa87dc83ea33a8dbe9.\n",
      "2024/12/05 17:56:25 INFO mlflow.tracking._tracking_service.client: 🧪 View experiment at: http://127.0.0.1:8080/#/experiments/101887636968754225.\n"
     ]
    },
    {
     "name": "stdout",
     "output_type": "stream",
     "text": [
      "    param_max_depth  param_min_samples_split  \\\n",
      "0                 5                        2   \n",
      "1                 5                        5   \n",
      "2                 5                       10   \n",
      "3                 5                       15   \n",
      "4                 5                       20   \n",
      "5                10                        2   \n",
      "6                10                        5   \n",
      "7                10                       10   \n",
      "8                10                       15   \n",
      "9                10                       20   \n",
      "10               15                        2   \n",
      "11               15                        5   \n",
      "12               15                       10   \n",
      "13               15                       15   \n",
      "14               15                       20   \n",
      "\n",
      "                                        params  mean_test_score  \\\n",
      "0     {'max_depth': 5, 'min_samples_split': 2}    -13183.309995   \n",
      "1     {'max_depth': 5, 'min_samples_split': 5}    -13183.309995   \n",
      "2    {'max_depth': 5, 'min_samples_split': 10}    -13182.362989   \n",
      "3    {'max_depth': 5, 'min_samples_split': 15}    -13182.362989   \n",
      "4    {'max_depth': 5, 'min_samples_split': 20}    -13182.362989   \n",
      "5    {'max_depth': 10, 'min_samples_split': 2}     -6737.370570   \n",
      "6    {'max_depth': 10, 'min_samples_split': 5}     -6757.685005   \n",
      "7   {'max_depth': 10, 'min_samples_split': 10}     -6597.073382   \n",
      "8   {'max_depth': 10, 'min_samples_split': 15}     -6593.574769   \n",
      "9   {'max_depth': 10, 'min_samples_split': 20}     -6577.248034   \n",
      "10   {'max_depth': 15, 'min_samples_split': 2}     -8144.747098   \n",
      "11   {'max_depth': 15, 'min_samples_split': 5}     -7733.423798   \n",
      "12  {'max_depth': 15, 'min_samples_split': 10}     -7066.797852   \n",
      "13  {'max_depth': 15, 'min_samples_split': 15}     -6836.389133   \n",
      "14  {'max_depth': 15, 'min_samples_split': 20}     -6673.332488   \n",
      "\n",
      "    std_test_score  rank_test_score  \n",
      "0       431.187012               14  \n",
      "1       431.187012               14  \n",
      "2       431.017425               11  \n",
      "3       431.017425               11  \n",
      "4       431.017425               11  \n",
      "5       275.458821                5  \n",
      "6       337.163473                6  \n",
      "7       360.318387                3  \n",
      "8       355.570690                2  \n",
      "9       317.238414                1  \n",
      "10      347.997126               10  \n",
      "11      451.907255                9  \n",
      "12      355.630231                8  \n",
      "13      350.702216                7  \n",
      "14      358.585166                4  \n",
      "Best Hyperparameters: {'max_depth': 10, 'min_samples_split': 20}\n",
      "Test MAE: 53.4724784687744\n",
      "Test RMSE: 80.44670182436198\n"
     ]
    },
    {
     "data": {
      "image/png": "[encoded data removed]",
      "text/plain": [
       "<Figure size 393.701x236.22 with 1 Axes>"
      ]
     },
     "metadata": {},
     "output_type": "display_data"
    }
   ],
   "source": [
    "# Give the run a name\n",
    "today = dt.date.today()\n",
    "run_name = \"bike_sharing_GridSearchCV_DecisionTreeRegressor_\" + str(today)\n",
    "# NOTE: run_name is not necessarily unique \n",
    "\n",
    "with mlflow.start_run(run_name=run_name) as run:\n",
    "   \n",
    "    # get run_id:\n",
    "    print(run.info.run_id)\n",
    "    \n",
    "    # Perform grid search\n",
    "    best_DT = grid_search.fit(X_train, y_train)\n",
    "    \n",
    "    # Log the best hyperparameters\n",
    "    best_params = grid_search.best_params_\n",
    "    mlflow.log_param(\"best_max_depth\", best_params['max_depth'])\n",
    "    mlflow.log_param(\"best_min_samples_split\", best_params['min_samples_split'])\n",
    "    \n",
    "    # Log the best score (cross-validated)\n",
    "    best_score = -grid_search.best_score_  # \"-\" because we used 'neg_mean_squared_error' for scoring\n",
    "    mlflow.log_metric(\"best_cross_val_score\", best_score)\n",
    "    \n",
    "    # Log the final model\n",
    "    best_model = grid_search.best_estimator_\n",
    "    mlflow.sklearn.log_model(best_model, \"best_model\")\n",
    "\n",
    "    # Plot feature importance\n",
    "    plot_feature_importance(best_model, X_train, path_figs, 'feature_importance.pdf', cm)\n",
    "    \n",
    "    # Log feature importance as an artifact\n",
    "    mlflow.log_artifact(Path(path_figs / 'feature_importance.pdf'))\n",
    "\n",
    "    # collect all results\n",
    "    individual_results = pd.DataFrame(best_DT.cv_results_)\n",
    "    results = individual_results[['param_max_depth', 'param_min_samples_split', 'params', \n",
    "                                 #'split0_test_score', 'split1_test_score', 'split2_test_score',\n",
    "                                 #'split3_test_score', 'split4_test_score',  \n",
    "                                  'mean_test_score', 'std_test_score', 'rank_test_score']]\n",
    "    # show dataframe\n",
    "    print(results)\n",
    "\n",
    "    # Evaluate the model on the test set and log the result\n",
    "    test_predictions = best_model.predict(X_test)\n",
    "    test_mae = mean_absolute_error(y_test, test_predictions)\n",
    "    mlflow.log_metric(\"test_MAE\", test_mae)\n",
    "    test_rmse = np.sqrt(mean_squared_error(y_test, test_predictions))\n",
    "    mlflow.log_metric(\"test_RMSE\", test_rmse)\n",
    "    \n",
    "    # end the run\n",
    "    mlflow.end_run()\n",
    "    \n",
    "print(f\"Best Hyperparameters: {best_params}\")\n",
    "print(f\"Test MAE: {test_mae}\")\n",
    "print(f\"Test RMSE: {test_rmse}\")"
   ]
  },
  {
   "cell_type": "code",
   "execution_count": 32,
   "id": "fd51e53e-03c6-4478-9642-9405f340b29d",
   "metadata": {},
   "outputs": [
    {
     "data": {
      "text/plain": [
       "<matplotlib.collections.PathCollection at 0x7661943ffaa0>"
      ]
     },
     "execution_count": 32,
     "metadata": {},
     "output_type": "execute_result"
    },
    {
     "data": {
      "image/png": "[encoded data removed]",
      "text/plain": [
       "<Figure size 640x480 with 1 Axes>"
      ]
     },
     "metadata": {},
     "output_type": "display_data"
    }
   ],
   "source": [
    "#TBD \n",
    "plt.scatter(y_test,test_predictions, s=1)"
   ]
  },
  {
   "cell_type": "raw",
   "id": "d642ce57-4317-4d6c-b7b0-7261e631f34c",
   "metadata": {},
   "source": [
    "The model does not perform well - here we do not care, the purpose was to show and entire MLFlow tracking process"
   ]
  },
  {
   "cell_type": "markdown",
   "id": "3024c3d4-b327-49c0-8fcd-fbf806b77e1c",
   "metadata": {},
   "source": [
    "### 3.2.3 Get MLFlow data"
   ]
  },
  {
   "cell_type": "code",
   "execution_count": 33,
   "id": "cc246c32-2b27-4943-8908-3a41eb6ec3d7",
   "metadata": {},
   "outputs": [
    {
     "name": "stdout",
     "output_type": "stream",
     "text": [
      "Index(['run_id', 'experiment_id', 'status', 'artifact_uri', 'start_time',\n",
      "       'end_time', 'metrics.test_RMSE', 'metrics.best_cross_val_score',\n",
      "       'metrics.test_MAE', 'params.best_max_depth',\n",
      "       'params.best_min_samples_split', 'tags.mlflow.runName',\n",
      "       'tags.mlflow.source.name', 'tags.mlflow.user',\n",
      "       'tags.mlflow.log-model.history', 'tags.mlflow.source.type'],\n",
      "      dtype='object')\n"
     ]
    }
   ],
   "source": [
    "# Create DataFrame of all runs in the current experiment\n",
    "df_all = mlflow.search_runs(order_by=[\"start_time DESC\"])\n",
    "print(df_all.columns)"
   ]
  },
  {
   "cell_type": "code",
   "execution_count": 35,
   "id": "e44a5129-0562-44aa-a7a2-15af8c1a07c8",
   "metadata": {},
   "outputs": [
    {
     "data": {
      "text/html": [
       "<div>\n",
       "<style scoped>\n",
       "    .dataframe tbody tr th:only-of-type {\n",
       "        vertical-align: middle;\n",
       "    }\n",
       "\n",
       "    .dataframe tbody tr th {\n",
       "        vertical-align: top;\n",
       "    }\n",
       "\n",
       "    .dataframe thead th {\n",
       "        text-align: right;\n",
       "    }\n",
       "</style>\n",
       "<table border=\"1\" class=\"dataframe\">\n",
       "  <thead>\n",
       "    <tr style=\"text-align: right;\">\n",
       "      <th></th>\n",
       "      <th>run_id</th>\n",
       "      <th>experiment_id</th>\n",
       "      <th>status</th>\n",
       "      <th>metrics.test_MAE</th>\n",
       "      <th>metrics.test_RMSE</th>\n",
       "      <th>metrics.best_cross_val_score</th>\n",
       "      <th>params.best_min_samples_split</th>\n",
       "      <th>params.best_max_depth</th>\n",
       "      <th>tags.mlflow.source.type</th>\n",
       "      <th>tags.mlflow.source.name</th>\n",
       "      <th>tags.mlflow.log-model.history</th>\n",
       "      <th>tags.mlflow.runName</th>\n",
       "      <th>tags.mlflow.user</th>\n",
       "    </tr>\n",
       "  </thead>\n",
       "  <tbody>\n",
       "    <tr>\n",
       "      <th>0</th>\n",
       "      <td>71fa669f061349aa87dc83ea33a8dbe9</td>\n",
       "      <td>101887636968754225</td>\n",
       "      <td>FINISHED</td>\n",
       "      <td>53.472478</td>\n",
       "      <td>80.446702</td>\n",
       "      <td>6577.248034</td>\n",
       "      <td>20</td>\n",
       "      <td>10</td>\n",
       "      <td>LOCAL</td>\n",
       "      <td>/home/lemasle/miniforge3/envs/MLOPS/lib/python...</td>\n",
       "      <td>[{\"run_id\": \"71fa669f061349aa87dc83ea33a8dbe9\"...</td>\n",
       "      <td>bike_sharing_GridSearchCV_DecisionTreeRegresso...</td>\n",
       "      <td>lemasle</td>\n",
       "    </tr>\n",
       "    <tr>\n",
       "      <th>1</th>\n",
       "      <td>6314d6c1ac654881ab8db25e40da75ee</td>\n",
       "      <td>101887636968754225</td>\n",
       "      <td>RUNNING</td>\n",
       "      <td>NaN</td>\n",
       "      <td>NaN</td>\n",
       "      <td>NaN</td>\n",
       "      <td>None</td>\n",
       "      <td>None</td>\n",
       "      <td>LOCAL</td>\n",
       "      <td>/home/lemasle/miniforge3/envs/MLOPS/lib/python...</td>\n",
       "      <td>[{\"run_id\": \"6314d6c1ac654881ab8db25e40da75ee\"...</td>\n",
       "      <td>ambitious-crow-476</td>\n",
       "      <td>lemasle</td>\n",
       "    </tr>\n",
       "    <tr>\n",
       "      <th>2</th>\n",
       "      <td>7eb18b648e874682b0a846849a5348db</td>\n",
       "      <td>101887636968754225</td>\n",
       "      <td>FINISHED</td>\n",
       "      <td>53.472478</td>\n",
       "      <td>80.446702</td>\n",
       "      <td>6577.248034</td>\n",
       "      <td>20</td>\n",
       "      <td>10</td>\n",
       "      <td>LOCAL</td>\n",
       "      <td>/home/lemasle/miniforge3/envs/MLOPS/lib/python...</td>\n",
       "      <td>[{\"run_id\": \"7eb18b648e874682b0a846849a5348db\"...</td>\n",
       "      <td>bike_sharing_GridSearchCV_DecisionTreeRegresso...</td>\n",
       "      <td>lemasle</td>\n",
       "    </tr>\n",
       "  </tbody>\n",
       "</table>\n",
       "</div>"
      ],
      "text/plain": [
       "                             run_id       experiment_id    status  \\\n",
       "0  71fa669f061349aa87dc83ea33a8dbe9  101887636968754225  FINISHED   \n",
       "1  6314d6c1ac654881ab8db25e40da75ee  101887636968754225   RUNNING   \n",
       "2  7eb18b648e874682b0a846849a5348db  101887636968754225  FINISHED   \n",
       "\n",
       "   metrics.test_MAE  metrics.test_RMSE  metrics.best_cross_val_score  \\\n",
       "0         53.472478          80.446702                   6577.248034   \n",
       "1               NaN                NaN                           NaN   \n",
       "2         53.472478          80.446702                   6577.248034   \n",
       "\n",
       "  params.best_min_samples_split params.best_max_depth tags.mlflow.source.type  \\\n",
       "0                            20                    10                   LOCAL   \n",
       "1                          None                  None                   LOCAL   \n",
       "2                            20                    10                   LOCAL   \n",
       "\n",
       "                             tags.mlflow.source.name  \\\n",
       "0  /home/lemasle/miniforge3/envs/MLOPS/lib/python...   \n",
       "1  /home/lemasle/miniforge3/envs/MLOPS/lib/python...   \n",
       "2  /home/lemasle/miniforge3/envs/MLOPS/lib/python...   \n",
       "\n",
       "                       tags.mlflow.log-model.history  \\\n",
       "0  [{\"run_id\": \"71fa669f061349aa87dc83ea33a8dbe9\"...   \n",
       "1  [{\"run_id\": \"6314d6c1ac654881ab8db25e40da75ee\"...   \n",
       "2  [{\"run_id\": \"7eb18b648e874682b0a846849a5348db\"...   \n",
       "\n",
       "                                 tags.mlflow.runName tags.mlflow.user  \n",
       "0  bike_sharing_GridSearchCV_DecisionTreeRegresso...          lemasle  \n",
       "1                                 ambitious-crow-476          lemasle  \n",
       "2  bike_sharing_GridSearchCV_DecisionTreeRegresso...          lemasle  "
      ]
     },
     "execution_count": 35,
     "metadata": {},
     "output_type": "execute_result"
    }
   ],
   "source": [
    "# Print a list of the columns available\n",
    "# print(list(df.columns))\n",
    "\n",
    "# Create DataFrame with subset of columns\n",
    "df_runs = df_all[   [\n",
    "        \"run_id\",\n",
    "        \"experiment_id\",\n",
    "        \"status\",\n",
    "        \"metrics.test_MAE\",\n",
    "        \"metrics.test_RMSE\",\n",
    "        \"metrics.best_cross_val_score\",\n",
    "        \"params.best_min_samples_split\",\n",
    "        \"params.best_max_depth\",\n",
    "        \"tags.mlflow.source.type\",\n",
    "        \"tags.mlflow.source.name\",\n",
    "        \"tags.mlflow.log-model.history\", \n",
    "        \"tags.mlflow.runName\",\n",
    "        \"tags.mlflow.user\",\n",
    "        ]\n",
    "].copy()\n",
    "df_runs.head()"
   ]
  },
  {
   "cell_type": "code",
   "execution_count": null,
   "id": "3ae72ed4-7b68-4ba1-b4ea-48d3b986c89b",
   "metadata": {
    "scrolled": true
   },
   "outputs": [],
   "source": []
  },
  {
   "cell_type": "code",
   "execution_count": 36,
   "id": "f1113f70-661a-463b-8bb1-a40690c7fd51",
   "metadata": {},
   "outputs": [],
   "source": [
    "# TBD PYFUNC?"
   ]
  },
  {
   "cell_type": "markdown",
   "id": "06e2abfc-26c9-4cc3-a886-2346bfd10637",
   "metadata": {},
   "source": [
    "## 3.3 MLFlow project setup"
   ]
  },
  {
   "cell_type": "raw",
   "id": "08a7a26b-c5a3-46d6-99e9-fabb163cdcc7",
   "metadata": {},
   "source": [
    "The goal is package projects to make them reusable /reproducible.\n",
    "This includes defining environments and dependencies to ensure that the project can be executed across different platforms\n",
    "Each project is specified by an MLproject file containing:\n",
    "- The entry point, which is the main script/function to run\n",
    "- The environment specifications, such as the necessary python packages or Docker images\n",
    "the cell below shows an example of a MLproject file."
   ]
  },
  {
   "cell_type": "markdown",
   "id": "6ccd691d-1658-4ba9-98eb-69bc996ea795",
   "metadata": {},
   "source": [
    "name: BikeSharingPrediction\n",
    "\n",
    "conda_env: conda.yaml\n",
    "\n",
    "entry_points:\n",
    "  main:\n",
    "    command: \"python train.py\""
   ]
  },
  {
   "cell_type": "markdown",
   "id": "c0c9dd5c-c68b-4334-b6ab-c3684ab1b0d6",
   "metadata": {},
   "source": [
    "## 3.4 MLFlow models setup"
   ]
  },
  {
   "cell_type": "raw",
   "id": "7e02cd37-6e1e-4dc0-a9ec-19e8884d0ee5",
   "metadata": {},
   "source": [
    "MLFlow Models provides a standard format for packaging models to be deployed across a variety of platforms. \n",
    "MLFlow supports different model flavors, such as scikit-learn, TensorFlow, PyTorch\n",
    "Once a model is saved in a MLFlow model format, it can be easily deployed in different environments (AWS Sagemaker, Azure ML, Docker, etc)"
   ]
  },
  {
   "cell_type": "raw",
   "id": "70662f28-b123-4b1a-b193-4c309ced7740",
   "metadata": {},
   "source": [
    "After training, we logged the entire trained model using mlflow.sklearn.log_model(model, \"model\"). \n",
    "This command enables us to load the model later, either for deployment or for further analysis."
   ]
  },
  {
   "cell_type": "code",
   "execution_count": 37,
   "id": "bd7482b3-0d7d-40ef-b327-014a9f63f757",
   "metadata": {},
   "outputs": [
    {
     "name": "stderr",
     "output_type": "stream",
     "text": [
      "2024/12/05 17:58:54 WARNING mlflow.models.model: Model logged without a signature and input example. Please set `input_example` parameter when logging the model to auto infer the model signature.\n"
     ]
    },
    {
     "data": {
      "text/plain": [
       "<mlflow.models.model.ModelInfo at 0x76619df40380>"
      ]
     },
     "execution_count": 37,
     "metadata": {},
     "output_type": "execute_result"
    }
   ],
   "source": [
    "import mlflow.sklearn\n",
    "\n",
    "# Log the model\n",
    "mlflow.sklearn.log_model(model, \"model\")"
   ]
  },
  {
   "cell_type": "markdown",
   "id": "86eb5369-deff-4f50-9f32-f828097bbebe",
   "metadata": {},
   "source": [
    "## 3.5 MLFlow Registry setup "
   ]
  },
  {
   "cell_type": "raw",
   "id": "bb16a65d-d3cb-4e6a-8484-36643ca6e48d",
   "metadata": {},
   "source": [
    "The model lifecycle is usually: \n",
    "   i) Staging: model being tested/validated.\n",
    "  ii) Production: A model currently in use.\n",
    " iii) Archive: A model that is no longer in use.\n",
    "\n",
    "The MLFlow Model Registry is a repository where models are registered, versioned, and promoted through the entire lifecycle.\n",
    "It allows to revert easily to a previous version in case a new model turns out to perform badly after deployment."
   ]
  },
  {
   "cell_type": "code",
   "execution_count": 38,
   "id": "f77c19d5-4c2a-40ab-8a5d-80a3f78d678b",
   "metadata": {},
   "outputs": [
    {
     "name": "stdout",
     "output_type": "stream",
     "text": [
      "runs:/71fa669f061349aa87dc83ea33a8dbe9/model\n"
     ]
    }
   ],
   "source": [
    "path_reg_mod = str('runs:/') + str(run.info.run_id) + str('/model')\n",
    "print(path_reg_mod)"
   ]
  },
  {
   "cell_type": "code",
   "execution_count": 39,
   "id": "e7c5f9f5-a948-46a4-ad8a-7995f4bafbcb",
   "metadata": {},
   "outputs": [
    {
     "name": "stderr",
     "output_type": "stream",
     "text": [
      "Registered model 'BikeSharingPredictionModel' already exists. Creating a new version of this model...\n",
      "2024/12/05 17:58:58 INFO mlflow.store.model_registry.abstract_store: Waiting up to 300 seconds for model version to finish creation. Model name: BikeSharingPredictionModel, version 2\n",
      "Created version '2' of model 'BikeSharingPredictionModel'.\n"
     ]
    }
   ],
   "source": [
    "result = mlflow.register_model(path_reg_mod, \"BikeSharingPredictionModel\")"
   ]
  },
  {
   "cell_type": "markdown",
   "id": "6b3c078a-dcb0-4265-befe-323585438aad",
   "metadata": {},
   "source": [
    "# Conclusion/Summary"
   ]
  },
  {
   "cell_type": "raw",
   "id": "f062c9b8-d97e-4f1b-9047-da2f896292dc",
   "metadata": {},
   "source": [
    "MLFlow for MLOps:\n",
    "\n",
    "- Rationalize experiment tracking via MLFlow tracking\n",
    "- Make the experiment reproducible across different environments thanks to MLFlow projects\n",
    "- Standardize model packaging via MLFlow models, which makes it easy to deploy and serve models in production\n",
    "- Simplifies the lifecycle management thanks to MLFlow Model Registry, updating models to new versions or reverting to previous versions"
   ]
  },
  {
   "cell_type": "code",
   "execution_count": null,
   "id": "91552ef0-1951-4b1c-aee1-420554f07ec7",
   "metadata": {},
   "outputs": [],
   "source": []
  },
  {
   "cell_type": "markdown",
   "id": "6594f160-9968-41e2-bf0a-9c3895392286",
   "metadata": {},
   "source": [
    "# DRAFT"
   ]
  },
  {
   "cell_type": "raw",
   "id": "e926b301-22e3-48d7-a840-829b80692aa8",
   "metadata": {},
   "source": [
    "##### The logs above only log the \"best\" parameters/scores/etc as investigated by GridSearchCV.\n",
    "##### If we want to log the results from individual tests:\n",
    "    # collect all results\n",
    "    individual_results = pd.DataFrame(best_DT.cv_results_)\n",
    "    results = individual_results[['param_max_depth', 'param_min_samples_split', 'params', \n",
    "                                 #'split0_test_score', 'split1_test_score', 'split2_test_score',\n",
    "                                 #'split3_test_score', 'split4_test_score',  \n",
    "                                  'mean_test_score', 'std_test_score', 'rank_test_score']]\n",
    "    # show dataframe\n",
    "    print(results)\n",
    "    # convert to array for iterating/logging\n",
    "    results = results.values\n",
    "    # log items\n",
    "    for indiv_res in results:\n",
    "#TBD    with mlflow.start_run(run_id = run.info.run_id):\n",
    "        # log params\n",
    "        # Impossible to log the parameters individually:\n",
    "        # It is not allowed to change the parameters values within a given run\n",
    "        mlflow.log_param(\"Params\", indiv_res[2])\n",
    "        # log metrics        \n",
    "        mlflow.log_metric(\"Mean_NMSE\", indiv_res[3])\n",
    "        mlflow.log_metric(\"Stdv_NMSE\", indiv_res[4])\n",
    "        mlflow.log_metric(\"Rank_NMSE\", indiv_res[5])\n",
    "#TBD     mlflow.end_run(status='FINISHED')    \n"
   ]
  },
  {
   "cell_type": "raw",
   "id": "c8448c0e-2cf1-40d2-835b-04ac411892e2",
   "metadata": {},
   "source": [
    "# Define the hyperparameter distributions\n",
    "param_distributions = {\n",
    "    'max_depth': randint(5, 20),\n",
    "    'min_samples_split': randint(2, 20)\n",
    "}# Set up RandomizedSearchCV\n",
    "random_search = RandomizedSearchCV(estimator=model, param_distributions=param_distributions, \n",
    "                                   n_iter=10, cv=5, scoring='neg_mean_squared_error', random_state=42, verbose=1)# Perform RandomizedSearchCV with MLFlow tracking\n",
    "with mlflow.start_run():\n",
    "    random_search.fit(X_train, y_train)\n",
    "    \n",
    "    # Log the best hyperparameters and metrics\n",
    "    best_params = random_search.best_params_\n",
    "    mlflow.log_param(\"best_max_depth\", best_params['max_depth'])\n",
    "    mlflow.log_param(\"best_min_samples_split\", best_params['min_samples_split'])\n",
    "    \n",
    "    best_score = -random_search.best_score_  # Convert to positive MSE\n",
    "    mlflow.log_metric(\"best_cross_val_score\", best_score)\n",
    "    \n",
    "    # Log the best model\n",
    "    best_model = random_search.best_estimator_\n",
    "    mlflow.sklearn.log_model(best_model, \"best_model\")\n",
    "    \n",
    "    # Evaluate and log test set performance\n",
    "    test_predictions = best_model.predict(X_test)\n",
    "    test_rmse = np.sqrt(mean_squared_error(y_test, test_predictions))\n",
    "    mlflow.log_metric(\"test_RMSE\", test_rmse)print(f\"Best Hyperparameters: {best_params}\")\n",
    "print(f\"Test RMSE: {test_rmse}\")"
   ]
  },
  {
   "cell_type": "raw",
   "id": "ab2887e0-91ce-47e1-9543-6f7ad367bea5",
   "metadata": {},
   "source": [
    "with mlflow.start_run():\n",
    "    # Log model parameters\n",
    "    mlflow.log_param(\"model_type\", \"DecisionTreeRegressor\")\n",
    "    mlflow.log_param(\"max_depth\", max_depth)\n",
    "    mlflow.log_param(\"random_state\", random_state)\n",
    "    \n",
    "    # Train the model\n",
    "    model.fit(X_train, y_train)\n",
    "    \n",
    "    # Make predictions on the test set\n",
    "    predictions = model.predict(X_test)\n",
    "    \n",
    "    # Calculate metrics\n",
    "    mae = mean_absolute_error(y_test, predictions)\n",
    "    rmse = np.sqrt(mean_squared_error(y_test, predictions))\n",
    "    \n",
    "    # Log metrics\n",
    "    mlflow.log_metric(\"MAE\", mae)\n",
    "    mlflow.log_metric(\"RMSE\", rmse)\n",
    "    \n",
    "    # Plot and log feature importance as an artifact\n",
    "    plot_feature_importance(model, X_train, path_figs, 'feature_importance.pdf', cm)\n",
    "    \n",
    "    # Log the artifact (the feature importance plot)\n",
    "    mlflow.log_artifact(Path(path_figs / 'feature_importance.pdf'))\n",
    "    \n",
    "    # Log the model itself\n",
    "    mlflow.sklearn.log_model(model, \"model\")\n",
    "\n",
    "    # end the run\n",
    "    mlflow.end_run(status='FINISHED')\n",
    "    \n",
    "print(f\"Model training complete. MAE: {mae}, RMSE: {rmse}\")"
   ]
  }
 ],
 "metadata": {
  "kernelspec": {
   "display_name": "Python 3 (ipykernel)",
   "language": "python",
   "name": "python3"
  },
  "language_info": {
   "codemirror_mode": {
    "name": "ipython",
    "version": 3
   },
   "file_extension": ".py",
   "mimetype": "text/x-python",
   "name": "python",
   "nbconvert_exporter": "python",
   "pygments_lexer": "ipython3",
   "version": "3.12.6"
  }
 },
 "nbformat": 4,
 "nbformat_minor": 5
}
